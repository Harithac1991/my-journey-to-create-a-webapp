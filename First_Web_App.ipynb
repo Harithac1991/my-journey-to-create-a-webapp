{
 "cells": [
  {
   "cell_type": "markdown",
   "metadata": {},
   "source": [
    "# Create your first web app using python"
   ]
  },
  {
   "cell_type": "markdown",
   "metadata": {},
   "source": [
    "#### Tutorial : http://duspviz.mit.edu/tutorials/localhost-servers/"
   ]
  },
  {
   "cell_type": "code",
   "execution_count": 3,
   "metadata": {},
   "outputs": [
    {
     "data": {
      "text/plain": [
       "sys.version_info(major=3, minor=5, micro=2, releaselevel='final', serial=0)"
      ]
     },
     "execution_count": 3,
     "metadata": {},
     "output_type": "execute_result"
    }
   ],
   "source": [
    "#check my python version first ! i know i am using python 3\n",
    "import sys\n",
    "sys.version\n",
    "sys.version_info"
   ]
  },
  {
   "cell_type": "code",
   "execution_count": 5,
   "metadata": {},
   "outputs": [],
   "source": [
    "##### this means i am using python 3.5.2 (major.minor.macro)"
   ]
  },
  {
   "cell_type": "code",
   "execution_count": 7,
   "metadata": {},
   "outputs": [
    {
     "name": "stdout",
     "output_type": "stream",
     "text": [
      "3.5.2\n"
     ]
    }
   ],
   "source": [
    "\n",
    "#or\n",
    "import platform \n",
    "print(platform.python_version())\n",
    "#this also works\n"
   ]
  },
  {
   "cell_type": "code",
   "execution_count": 8,
   "metadata": {},
   "outputs": [
    {
     "name": "stdout",
     "output_type": "stream",
     "text": [
      " Volume in drive C is OSDisk\n",
      " Volume Serial Number is D2FE-3D39\n",
      "\n",
      " Directory of C:\\Users\\haritha.c\\Documents\\HARITHA\\MyEducation\\Udemy_courses\\github\\my-journey-to-create-a-webapp\n",
      "\n",
      "23-09-2018  13:50    <DIR>          .\n",
      "23-09-2018  13:50    <DIR>          ..\n",
      "23-09-2018  13:47    <DIR>          .ipynb_checkpoints\n",
      "23-09-2018  13:51    <DIR>          directory_to_share\n",
      "23-09-2018  13:49             1,712 First_Web_App.ipynb\n",
      "               1 File(s)          1,712 bytes\n",
      "               4 Dir(s)   9,247,031,296 bytes free\n"
     ]
    }
   ],
   "source": [
    "ls\n"
   ]
  },
  {
   "cell_type": "code",
   "execution_count": 9,
   "metadata": {},
   "outputs": [
    {
     "name": "stdout",
     "output_type": "stream",
     "text": [
      "C:\\Users\\haritha.c\\Documents\\HARITHA\\MyEducation\\Udemy_courses\\github\\my-journey-to-create-a-webapp\\directory_to_share\n"
     ]
    }
   ],
   "source": [
    "cd directory_to_share/"
   ]
  },
  {
   "cell_type": "code",
   "execution_count": 11,
   "metadata": {},
   "outputs": [
    {
     "name": "stderr",
     "output_type": "stream",
     "text": [
      "C:\\Users\\haritha.c\\AppData\\Local\\Programs\\Python\\Python36-32\\python.exe: No module named SimpleHTTPServer\n"
     ]
    }
   ],
   "source": [
    "!python -m SimpleHTTPServer"
   ]
  },
  {
   "cell_type": "markdown",
   "metadata": {},
   "source": [
    "###### Ah error! The above command is for python 2 (obeviously! cuz the tutorial is for python 2 )\n",
    "So by googling,https://stackoverflow.com/questions/7943751/what-is-the-python-3-equivalent-of-python-m-simplehttpserver\n",
    "i learned that the command goes : "
   ]
  },
  {
   "cell_type": "code",
   "execution_count": null,
   "metadata": {},
   "outputs": [],
   "source": [
    "! python -m http.server"
   ]
  },
  {
   "cell_type": "markdown",
   "metadata": {},
   "source": [
    "it took so much time to run and did not work. So i opened in terminal and it worked.\n",
    "u can see the interface in browser as :\n"
   ]
  },
  {
   "cell_type": "code",
   "execution_count": 6,
   "metadata": {},
   "outputs": [
    {
     "data": {
      "image/png": "[encoded data removed]",
      "text/plain": [
       "<IPython.core.display.Image object>"
      ]
     },
     "execution_count": 6,
     "metadata": {},
     "output_type": "execute_result"
    }
   ],
   "source": [
    "from IPython.display import Image\n",
    "Image(\"directory_to_share\\\\my_website\\\\in_the_browser.png\")"
   ]
  },
  {
   "cell_type": "markdown",
   "metadata": {},
   "source": [
    "Since we don't have anything to render at port 8000, no content has been displayed"
   ]
  },
  {
   "cell_type": "code",
   "execution_count": null,
   "metadata": {},
   "outputs": [],
   "source": []
  }
 ],
 "metadata": {
  "kernelspec": {
   "display_name": "Python 3",
   "language": "python",
   "name": "python3"
  },
  "language_info": {
   "codemirror_mode": {
    "name": "ipython",
    "version": 3
   },
   "file_extension": ".py",
   "mimetype": "text/x-python",
   "name": "python",
   "nbconvert_exporter": "python",
   "pygments_lexer": "ipython3",
   "version": "3.5.2"
  }
 },
 "nbformat": 4,
 "nbformat_minor": 2
}
